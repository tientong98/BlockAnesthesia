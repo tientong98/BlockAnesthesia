{
 "cells": [
  {
   "cell_type": "markdown",
   "metadata": {},
   "source": [
    "# MRIQC\n",
    "\n",
    "Pull the lastest version of mriqc\n",
    "\n",
    "singularity pull docker://poldracklab/mriqc:<verion number>"
   ]
  },
  {
   "cell_type": "code",
   "execution_count": null,
   "metadata": {},
   "outputs": [],
   "source": [
    "singularity run -H /Users/tientong/.singularity \\\n",
    "-B /Shared/rblock_mr/:/mnt \\\n",
    "/Users/tientong/.singularity/docker/mriqc-latest.simg \\\n",
    "/mnt/rawdata \\\n",
    "/mnt/derivatives/mriqc \\\n",
    "participant --participant-label $(cat <path_to_subject_list> | tr '\\n' ' ') \\\n",
    "--no-sub \\\n",
    "-w /mnt/derivatives/mriqc --report-dir /mnt/derivatives/mriqc \\\n",
    "--verbose-reports --write-graph --mem_gb 55 \\\n",
    "--deoblique  --despike --correct-slice-timing --start-idx 5 \\\n",
    "--n_procs 8 --mem_gb 55"
   ]
  }
 ],
 "metadata": {
  "kernelspec": {
   "display_name": "Python 3",
   "language": "python",
   "name": "python3"
  },
  "language_info": {
   "codemirror_mode": {
    "name": "ipython",
    "version": 3
   },
   "file_extension": ".py",
   "mimetype": "text/x-python",
   "name": "python",
   "nbconvert_exporter": "python",
   "pygments_lexer": "ipython3",
   "version": "3.7.2"
  }
 },
 "nbformat": 4,
 "nbformat_minor": 2
}
