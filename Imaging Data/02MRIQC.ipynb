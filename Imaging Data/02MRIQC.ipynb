{
 "cells": [
  {
   "cell_type": "markdown",
   "metadata": {},
   "source": [
    "# MRIQC\n",
    "\n",
    "Pull the lastest version of mriqc\n",
    "\n",
    "`singularity pull docker://poldracklab/mriqc:<verion number>`\n",
    "\n",
    "Create a template file"
   ]
  },
  {
   "cell_type": "code",
   "execution_count": null,
   "metadata": {},
   "outputs": [],
   "source": [
    "#!/bin/sh\n",
    "#$ -pe smp 16\n",
    "#$ -q CCOM\n",
    "#$ -m e\n",
    "#$ -M tien-tong@uiowa.edu\n",
    "#$ -o /Users/tientong/logs/block/mriqc/out\n",
    "#$ -e /Users/tientong/logs/block/mriqc/err\n",
    "OMP_NUM_THREADS=8\n",
    "singularity run -H /Users/tientong/singularity_home \\\n",
    "/Users/tientong/mriqc_0.14.2.sif \\\n",
    "/Shared/rblock_mr/rawdata \\\n",
    "/Shared/rblock_mr/derivatives/mriqc \\\n",
    "participant --participant_label SUBJECT \\\n",
    "--no-sub --verbose-reports --write-graph \\\n",
    "-w /Shared/rblock_mr/derivatives/mriqc \\\n",
    "--n_procs 8 --mem_gb 36000"
   ]
  },
  {
   "cell_type": "markdown",
   "metadata": {},
   "source": [
    "Use `sed` to create subject specific script, then submit jobs for all subjects"
   ]
  },
  {
   "cell_type": "code",
   "execution_count": null,
   "metadata": {},
   "outputs": [],
   "source": [
    "%%bash\n",
    "\n",
    "for sub in 8006 8013 8016 8018 8019 8021 8022 8023 8024 8025 8028 8029 8030 8031 8034 8036 8041 8042 8043 8045 8046 8047 8048 8049 8050 8052 8054 8056 8058 8059 8060 8061 8062 8070 ; do\n",
    "sed -e \"s|SUBJECT|${sub}|\" mriqc_TEMPLATE.job > mriqc_sub-${sub}.job\n",
    "done\n",
    "\n",
    "for sub in 8006 8013 8016 8018 8019 8021 8022 8023 8024 8025 8028 8029 8030 8031 8034 8036 8041 8042 8043 8045 8046 8047 8048 8049 8050 8052 8054 8056 8058 8059 8060 8061 8062 8070 ; do\n",
    "qsub mriqc_sub-${sub}.job\n",
    "done\n"
   ]
  }
 ],
 "metadata": {
  "kernelspec": {
   "display_name": "Python 3",
   "language": "python",
   "name": "python3"
  },
  "language_info": {
   "codemirror_mode": {
    "name": "ipython",
    "version": 3
   },
   "file_extension": ".py",
   "mimetype": "text/x-python",
   "name": "python",
   "nbconvert_exporter": "python",
   "pygments_lexer": "ipython3",
   "version": "3.7.2"
  }
 },
 "nbformat": 4,
 "nbformat_minor": 2
}
