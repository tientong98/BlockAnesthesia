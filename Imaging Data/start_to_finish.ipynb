{
 "cells": [
  {
   "cell_type": "markdown",
   "metadata": {},
   "source": [
    "# BIDSification\n",
    "\n",
    "Run heudiconv: details in **code/01heudiconv.ipynb**"
   ]
  },
  {
   "cell_type": "markdown",
   "metadata": {},
   "source": [
    "# Exclude dummy TRs\n",
    "\n",
    "Once you get the data in BIDS format, you need to get rid of the dummy TRs at the beginning of the run BEFORE running FMRIPREP\n",
    "\n",
    "Run **/Shared/rblock_mr/code/02exclude_first_TRs.sh** \n",
    "\n",
    "Rest: discarded 5TRs (240 --> 235)\n",
    "Sternberg and Hippo: discarded 3TRs (333 --> 330)\n",
    "\n",
    "Add this to the json file:\n",
    "\n",
    "\"NumberOfVolumesDiscardedByUser\": XX,"
   ]
  },
  {
   "cell_type": "markdown",
   "metadata": {},
   "source": [
    "# Add Slice Timing information to all json files\n",
    "\n",
    "of rest, sternberg and hipp tasks"
   ]
  },
  {
   "cell_type": "code",
   "execution_count": null,
   "metadata": {},
   "outputs": [],
   "source": [
    "%% bash\n",
    "\n",
    "for sub in 8062 ; do\n",
    "for task in rest hippo sternberg ; do\n",
    "\n",
    "sed -i 40r<(sed '1!d' /Shared/rblock_mr/rawdata/slicetiming.txt) /Shared/rblock_mr/rawdata/sub-${sub}/func/sub-${sub}_task-${task}_bold.json\n",
    "\n",
    "done\n",
    "done\n"
   ]
  },
  {
   "cell_type": "markdown",
   "metadata": {},
   "source": [
    "# Run FMRIPREP\n",
    "\n",
    "Create the template file below with SUBJECT as a placeholder."
   ]
  },
  {
   "cell_type": "code",
   "execution_count": null,
   "metadata": {
    "collapsed": true
   },
   "outputs": [],
   "source": [
    "# Run FMRIPREP\n",
    "\n",
    "# Pull the lastest version of fmriprep\n",
    "\n",
    "singularity pull docker://poldracklab/fmriprep:latest\n",
    "        \n",
    "# Run FMRIPREP on the cluster -- first create a template\n",
    "\n",
    "#!/bin/sh\n",
    "#$ -pe smp 10\n",
    "#$ -q PINC\n",
    "#$ -m e\n",
    "#$ -M tien-tong@uiowa.edu\n",
    "#$ -o /Users/tientong/logs/block/fmriprep/out\n",
    "#$ -e /Users/tientong/logs/block/fmriprep/err\n",
    "OMP_NUM_THREADS=8\n",
    "singularity run -H /Users/tientong/singularity_home \\\n",
    "/Users/tientong/poldracklab_fmriprep_1.4.1-2019-07-09-86bf8bc4b7d5.img \\\n",
    "/Shared/rblock_mr/rawdata \\\n",
    "/Shared/rblock_mr/derivatives \\\n",
    "participant --participant-label SUBJECT --skip_bids_validation \\\n",
    "--fs-license-file /Shared/oleary/functional/FreeSurferLicense/license.txt \\\n",
    "-w /Shared/rblock_mr/derivatives --write-graph \\\n",
    "--use-aroma --error-on-aroma-warnings --output-spaces T1w MNI152NLin6Asym:res-2 --stop-on-first-crash \\\n",
    "--omp-nthreads 8 --nthreads 8 --mem_mb 22500 --notrack"
   ]
  },
  {
   "cell_type": "markdown",
   "metadata": {},
   "source": [
    "Use `sed` to replace the placeholder with actual IDs, then submit all jobs to queue"
   ]
  },
  {
   "cell_type": "code",
   "execution_count": null,
   "metadata": {
    "collapsed": true
   },
   "outputs": [],
   "source": [
    "for sub in $(cat /Shared/rblock_mr/sourcedata/subjectlist.txt | tr '\\n' ' ') ; do\n",
    "sed -e \"s|SUBJECT|${sub}|\" fmriprep_TEMPLATE.job > fmriprep_sub-${sub}.job\n",
    "done\n",
    "\n",
    "\n",
    "for sub in 8006 8013 8016 8018 8019 8021 8022 8023 8024 8025 8028 8029 8030 8031 8034 8036 8041 8042 8043 8045 8046 8047 8048 8049 8050 8052 8054 8056 8058 8059 8060 8061 8062 8070 ; do\n",
    "sed -e \"s|SUBJECT|${sub}|\" mriqc_TEMPLATE.job > mriqc_sub-${sub}.job\n",
    "done\n",
    "\n",
    "for sub in 8006 8013 8016 8018 8019 8021 8022 8023 8024 8025 8028 8029 8030 8031 8034 8036 8041 8042 8043 8045 8046 8047 8048 8049 8050 8052 8054 8056 8058 8059 8060 8061 8062 8070 ; do\n",
    "qsub mriqc_sub-${sub}.job\n",
    "done\n",
    "\n",
    "\n",
    "for sub in $(cat /Shared/rblock_mr/sourcedata/subjectlist.txt | tr '\\n' ' ') ; do\n",
    "    qsub fmriprep_sub-${sub}.job\n",
    "done \n",
    "\n",
    "\n",
    "for sub in 8016 8019 8021 8022 8028 8030 8031 8034 8036 8041 8042 8043 8045 8046 8047 ; do\n",
    "    qsub fmriprep_sub-${sub}.job\n",
    "done"
   ]
  },
  {
   "cell_type": "markdown",
   "metadata": {},
   "source": [
    "# Edit confounds files\n",
    "\n",
    "Confounds files are in:\n",
    "\n",
    "```/Shared/rblock_mr/derivatives/fmriprep/TASK/fmriprep/SUB/func```\n",
    "\n",
    "We need to create a new confound file to include only the confounds we want (named `sub-SUB_ses-SES_task-TASK_run-RUN_bold_confounds-use.tsv`).\n",
    "\n",
    "AS OF SEPT 17 2018: the results from FMRIPREP have already been motion corrected, slice timing corrected, smoothed, and denoised non-aggressively with ICA_AROMA. The confound file will be the 6 motion parameters.\n",
    "\n",
    "The script to edit confounds files is:\n",
    "\n",
    "`/Shared/rblock_mr/code/edit_confounds.R`\n"
   ]
  },
  {
   "cell_type": "markdown",
   "metadata": {},
   "source": [
    "# Edit event files\n",
    "\n",
    "We first have to extract behavioral data from txt file (E-Prime, presentation, etc.) to BIDS formatted event files (BehavioralData/eventtiming.R), then copy to `func`"
   ]
  },
  {
   "cell_type": "code",
   "execution_count": null,
   "metadata": {},
   "outputs": [],
   "source": [
    "%%bash\n",
    "for sub in 8006 8013 8016 8018 8019 8021 8022 8023 8024 8025 8028 8029 8030 8031 8034 8036 8041 8042 8043 8045 8046 8047 8048 8049 8050 8052 8054 8056 8058 8059 8060 8061 8062 8070 ; do\n",
    "\n",
    "#for sub in 8062 ; do\n",
    "\n",
    "cp /Shared/rblock_mr/sourcedata/timingfiles/sternberg/sub-${sub}_task-sternberg_events.tsv /Shared/rblock_mr/rawdata/sub-${sub}/func/\n",
    "\n",
    "cp /Shared/rblock_mr/sourcedata/timingfiles/hippo/sub-${sub}_task-hippo_events.tsv /Shared/rblock_mr/rawdata/sub-${sub}/func/\n",
    "\n",
    "done"
   ]
  },
  {
   "cell_type": "markdown",
   "metadata": {},
   "source": [
    "Then, convert BIDS event files to 3 columns formatted event files, using \n",
    "    \n",
    "`/Shared/rblock_mr/code/03BIDSto3col-allsub_sternberg.sh`\n",
    "`/Shared/rblock_mr/code/03BIDSto3col-allsub_hippo.sh`  "
   ]
  },
  {
   "cell_type": "markdown",
   "metadata": {},
   "source": [
    "# Run first level GLM for each subject for each run\n",
    "\n",
    "## Create a template GLM via Feat GUI:\n",
    "\n",
    "__For FMIRPREP output AFTER ICA AROMA__\n",
    "    \n",
    "    Code saved in: /Shared/rblock_mr/code/subject_glm/hippo and /Shared/rblock_mr/code/subject_glm/sternberg\n",
    "    Results saved in: /Shared/rblock_mr/derivatives/subject_glm/hippo and /Shared/rblock_mr/derivatives/subject_glm/hippo\n",
    "\n",
    "    \n",
    "### Feat GUI Data tab\n",
    "4D input data\n",
    "\n",
    "For FMIRPREP output AFTER ICA AROMA == same as FMIRPREP output after ICA AROMA but no Motion parameters\n",
    "\n",
    "`/Shared/oleary/functional/UICL/BIDS/derivatives/fmriprep/stopsignal/fmriprep/sub-3003/ses-60844114/func/sub-3003_ses-60844114_task-stopsignal_run-1_bold_space-MNI152NLin2009cAsym_variant-smoothAROMAnonaggr_preproc.nii.gz`\n",
    "\n",
    "\n",
    "\n",
    "Output directory: \n",
    "\n",
    "__For FMIRPREP output AFTER ICA AROMA__\n",
    "\n",
    "`/Shared/oleary/functional/UICL/BIDS/derivatives/subject_level_glm/6regressors`\n",
    "\n",
    "\n",
    "Total volumes: 205-5 = 200 (exclude the first 5 TRs)\n",
    "\n",
    "TR: 2.8s\n",
    "\n",
    "Delete volumes: 0\n",
    "\n",
    "High pass filter cutoff: 100s (= .01 Hz)\n",
    "\n",
    "### Feat GUI Pre-stats tab\n",
    "\n",
    "Turn off everything except BET and High pass (ICA aroma pipeline already smooth the data\n",
    "\n",
    "### Feat GUI Registration tab\n",
    "\n",
    "Change to 6DOF - faster registration, because we don't care about the result of registration anyway. The 4D input was already registered to MNI\n",
    "\n",
    "### Feat GUI Stats tab\n",
    "\n",
    "Use FILM prewhitening\n",
    "\n",
    "#### Confounds \n",
    "\n",
    "Have to run the following scripts to get the confound file:\n",
    "\n",
    "1. Create an unsmooth denoised BOLD `fmri01_aromaunsmooth.sh`\t\n",
    "2. Calculate the average signal from CSF and WM of the unsmooth denoised BOLD `fmri02_WMCSFts.sh`\t\n",
    "3. Put the CSF and WM signal into a confound file-- to be regressed out later in FEAT `fmri03_confound.R`\n",
    "    \n",
    "### Feat GUI Post-stats tab\n",
    "\n",
    "Uncorrected Thresholding + turn off Create time series plots\n",
    "\n",
    "## Save this set up as a template `subject_glm_TEMPLATE.fsf`\n",
    "\n",
    "\n",
    "Make sure that you have turned off motion correction, slice time correction.\n",
    "\n",
    "\n",
    "## Write subject specific Feat then run it\n",
    "\n",
    "Create subject specific Feat using the bash code below\n"
   ]
  },
  {
   "cell_type": "code",
   "execution_count": null,
   "metadata": {},
   "outputs": [],
   "source": [
    "%%bash \n",
    "\n",
    "sub=(8024 8045 8070)\n",
    "dir=/Shared/rblock_mr/code/subject_glm/hippo\n",
    "\n",
    "\n",
    "for n in 0 1 2 ; do\n",
    "sed -e \"s|SUBJECT|${sub[$n]}|g\" $dir/sub-TEMPLATE.fsf > $dir/sub-${sub[$n]}.fsf\n",
    "done\n",
    "\n",
    "###########\n",
    "\n",
    "sub=(8024 8045 8070)\n",
    "dir=/Shared/rblock_mr/code/subject_glm/sternberg\n",
    "\n",
    "\n",
    "for n in 0 1 2 ; do\n",
    "sed -e \"s|SUBJECT|${sub[$n]}|g\" $dir/sub-TEMPLATE.fsf > $dir/sub-${sub[$n]}.fsf\n",
    "done\n"
   ]
  },
  {
   "cell_type": "markdown",
   "metadata": {},
   "source": [
    "Run the .fsf script with:\n",
    "`feat SCRIPTNAME.fsf` \n",
    "\n",
    "Run multiple scripts at once to speed things up.\n",
    "\n",
    "`ls *sub-8*.fsf | xargs -i{} -P10 feat {}`"
   ]
  },
  {
   "cell_type": "markdown",
   "metadata": {},
   "source": [
    "# Second level GLM \n",
    "\n",
    "## Delete unnecessary registration files\n",
    "\n",
    "Since outputs from FMRIPREP were already registerd to MNI, we need to stop FSL from doing registration one more time.\n",
    "\n",
    "To do this, run \n",
    "\n",
    "`/Shared/rblock_mr/code/skip_registration.sh`\n",
    "\n",
    "\n",
    "This script will make modification in the `reg/` directory of Feat outputs. In particular, it will replace the EPI --> MNI matrix by an identity matrix to make sure the there would be no transformation. Secondly, it will replace the standard.nii.gz by a random EPI volume, to make sure that there would be no interpolation.\n",
    "\n",
    "For more information, watch this: https://www.youtube.com/watch?v=U3tG7JMEf7M \n",
    "\n",
    "\n",
    "## Make 2nd level .fsf script\n",
    "\n",
    "### Data tab\n",
    "\n",
    "Hippo: Inputs are 3d Cope image: choose cope 1 (AL vs SI) and cope 2 (RE vs SI)\n",
    "Sternberg: Inputs are 3d Cope image: choose cope 1 (PT vs CT) and cope 2 (NT vs CT)\n",
    "\n",
    "### Stats tab\n",
    "\n",
    "Choose Fixed effects model.\n",
    "\n",
    "Model setup: EV1 = AL vs SI, EV2 = RE vs SI\n",
    "Contrast = EV1 - EV2 and EV2 - EV1 \n",
    "\n",
    "### Post-stats tab\n",
    "\n",
    "Uncorrected thresholding\n",
    "\n",
    "## Save this set up as a template `avg_across_runs_TEMPLATE.fsf`\n",
    "\n",
    "script in \n",
    "\n",
    "/Shared/rblock_mr/code/subject_glm/hippo/ALvsRE\n",
    "/Shared/rblock_mr/code/subject_glm/sternberg/PTvsNT\n",
    "\n",
    "\n",
    "# Create subject specific fsf file from template\n",
    "\n",
    "Then run multiple scripts in parallel using xargs"
   ]
  },
  {
   "cell_type": "code",
   "execution_count": null,
   "metadata": {},
   "outputs": [],
   "source": [
    "%%bash \n",
    "\n",
    "sub=(8006 8013 8016 8018 8019 8021 8022 8023 8024 8025 8028 8029 8030 8031 8034 8036 8041 8042 8043 8045 8046 8047 8048 8049 8050 8052 8054 8056 8058 8059 8060 8061 8070)\n",
    "dir=/Shared/rblock_mr/code/subject_glm/hippo/ALvsRE\n",
    "\n",
    "\n",
    "for n in 0 1 2 3 4 5 6 7 8 9 10 11 12 13 14 15 16 17 18 19 20 21 22 23 24 25 26 27 28 29 30 31 32 ; do\n",
    "sed -e \"s|SUBJECT|${sub[$n]}|g\" $dir/sub-TEMPLATE.fsf > $dir/sub-${sub[$n]}.fsf\n",
    "done\n",
    "\n",
    "\n",
    "###########\n",
    "\n",
    "sub=(8006 8013 8016 8018 8019 8021 8022 8023 8024 8025 8028 8029 8030 8031 8034 8036 8041 8042 8043 8045 8046 8047 8048 8049 8050 8052 8054 8056 8058 8059 8060 8061 8070)\n",
    "dir=/Shared/rblock_mr/code/subject_glm/sternberg/PTvsNT\n",
    "\n",
    "for n in 0 1 2 3 4 5 6 7 8 9 10 11 12 13 14 15 16 17 18 19 20 21 22 23 24 25 26 27 28 29 30 31 32 ; do\n",
    "sed -e \"s|SUBJECT|${sub[$n]}|g\" $dir/sub-TEMPLATE.fsf > $dir/sub-${sub[$n]}.fsf\n",
    "done"
   ]
  },
  {
   "cell_type": "markdown",
   "metadata": {},
   "source": [
    "**When done with subject level analysis**, run `fslmaths` to combine positive and negative stat maps"
   ]
  },
  {
   "cell_type": "code",
   "execution_count": null,
   "metadata": {},
   "outputs": [],
   "source": [
    "%%bash\n",
    "\n",
    "sub=(8006 8013 8016 8018 8019 8021 8022 8023 8024 8025 8028 8029 8030 8031 8034 8036 8041 8042 8043 8045 8046 8047 8048 8049 8050 8052 8054 8056 8058 8059 8060 8061 8070)\n",
    "sternberg=/Shared/rblock_mr/derivatives/subject_glm/sternberg/PTvsNT/\n",
    "\n",
    "for n in 0 1 2 3 4 5 6 7 8 9 10 11 12 13 14 15 16 17 18 19 20 21 22 23 24 25 26 27 28 29 30 31 32 ; do\n",
    "cd $sternberg/sub-${sub[$n]}.gfeat/cope1.feat\n",
    "fslmaths thresh_zstat2.nii.gz -mul -1 thresh_zstat2_neg.nii.gz\n",
    "fslmaths thresh_zstat1.nii.gz -add thresh_zstat2_neg.nii.gz thresh_zstat_combined.nii.gz\n",
    "\n",
    "done\n",
    "\n",
    "\n",
    "###########\n",
    "\n",
    "sub=(8006 8013 8016 8018 8019 8021 8022 8023 8024 8025 8028 8029 8030 8031 8034 8036 8041 8042 8043 8045 8046 8047 8048 8049 8050 8052 8054 8056 8058 8059 8060 8061 8070)\n",
    "hippo=/Shared/rblock_mr/derivatives/subject_glm/hippo/ALvsRE\n",
    "\n",
    "for n in 0 1 2 3 4 5 6 7 8 9 10 11 12 13 14 15 16 17 18 19 20 21 22 23 24 25 26 27 28 29 30 31 32 ; do\n",
    "cd $hippo/sub-${sub[$n]}.gfeat/cope1.feat\n",
    "fslmaths thresh_zstat2.nii.gz -mul -1 thresh_zstat2_neg.nii.gz\n",
    "fslmaths thresh_zstat1.nii.gz -add thresh_zstat2_neg.nii.gz thresh_zstat_combined.nii.gz\n",
    "done"
   ]
  },
  {
   "cell_type": "code",
   "execution_count": null,
   "metadata": {
    "collapsed": true
   },
   "outputs": [],
   "source": [
    "# Check the result to see if MTL/hippocampus was activated\n",
    "\n",
    "afni /Shared/pinc/sharedopt/apps/fsl/Linux/x86_64/5.0.8_multicore/data/standard/MNI152_T1_2mm_brain.nii.gz thresh_zstat_combined.nii.gz"
   ]
  }
 ],
 "metadata": {
  "kernelspec": {
   "display_name": "Python 3",
   "language": "python",
   "name": "python3"
  },
  "language_info": {
   "codemirror_mode": {
    "name": "ipython",
    "version": 3
   },
   "file_extension": ".py",
   "mimetype": "text/x-python",
   "name": "python",
   "nbconvert_exporter": "python",
   "pygments_lexer": "ipython3",
   "version": "3.7.2"
  }
 },
 "nbformat": 4,
 "nbformat_minor": 2
}
