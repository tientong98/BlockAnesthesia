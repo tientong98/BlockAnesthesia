{
 "cells": [
  {
   "cell_type": "code",
   "execution_count": null,
   "metadata": {
    "collapsed": true
   },
   "outputs": [],
   "source": [
    "# if you don't have heudiconv, create the singularity image with \n",
    "\n",
    "singularity pull docker://nipy/heudiconv:latest"
   ]
  },
  {
   "cell_type": "code",
   "execution_count": null,
   "metadata": {
    "collapsed": true
   },
   "outputs": [],
   "source": [
    "# Get scan information and a heuristic template by running this on Argon\n",
    "       \n",
    "singularity run \\\n",
    "-H /Users/tientong/.singularity \\\n",
    "/Users/tientong/heudiconv-latest.simg \\\n",
    "-d /Shared/rblock_mr/sourcedata/{subject}/*/DICOM/*.dcm \\\n",
    "-s 8050 \\\n",
    "-f convertall \\\n",
    "-c none \\\n",
    "-o /Shared/rblock_mr/sourcedata\n",
    "\n",
    "# everything will be store in /Shared/rblock_mr/rawdata/.heudiconv"
   ]
  },
  {
   "cell_type": "markdown",
   "metadata": {},
   "source": [
    "# Create study-specific heuristic file convert.py script"
   ]
  },
  {
   "cell_type": "code",
   "execution_count": null,
   "metadata": {},
   "outputs": [],
   "source": [
    "/Shared/pinc/sharedopt/apps/MRIcroGL/Linux/x86_64/1.0.20160930/dcm2niix -z y -f %s -o \"/Shared/rblock_mr/sourcedata/8070\" 3/DICOM"
   ]
  },
  {
   "cell_type": "code",
   "execution_count": null,
   "metadata": {
    "collapsed": true
   },
   "outputs": [],
   "source": [
    "# run heudiconv for single subject\n",
    "\n",
    "singularity run \\\n",
    "-H /Users/tientong/.singularity \\\n",
    "/Users/tientong/heudiconv-latest.simg \\\n",
    "-d /Shared/rblock_mr/sourcedata/{subject}/*/DICOM/*.dcm \\\n",
    "-s 8062 \\\n",
    "-f /Shared/rblock_mr/code/01convertall.py \\\n",
    "-c dcm2niix -b \\\n",
    "-o /Shared/rblock_mr/rawdata\n",
    "\n",
    "\n",
    "\n",
    "# run this if you precompile heudiconv yourself\n",
    "heudiconv \\\n",
    "-d /Shared/rblock_mr/sourcedata/{subject}/*/DICOM/*.dcm \\\n",
    "-s 8025 \\\n",
    "-f /Shared/rblock_mr/code/01convertall.py \\\n",
    "-c dcm2niix -b \\\n",
    "-o /Shared/rblock_mr/rawdata"
   ]
  },
  {
   "cell_type": "markdown",
   "metadata": {},
   "source": [
    "# When done running Heudiconv, have to check SliceTiming in the json file\n",
    "\n",
    "From Daniel Thedens:\n",
    "\n",
    "There is timing information, but it's in one of the private manufacturer specific fields. I believe DICOM tag (0021,105E) called RTIA_Timer contains timing information. Read this information using `pydicom`"
   ]
  },
  {
   "cell_type": "code",
   "execution_count": null,
   "metadata": {},
   "outputs": [],
   "source": [
    "\"SliceTiming\": [0.0023\n",
    "0.0563\n",
    "0.1104\n",
    "0.1644\n",
    "0.2185\n",
    "0.2725\n",
    "0.3266\n",
    "0.3806\n",
    "0.4347\n",
    "0.4888\n",
    "0.5428\n",
    "0.5969\n",
    "0.6509\n",
    "0.705\n",
    "0.759\n",
    "0.8131\n",
    "0.8671\n",
    "0.9212\n",
    "0.9753\n",
    "1.0293\n",
    "1.0834\n",
    "1.1374\n",
    "1.1915\n",
    "1.2455\n",
    "1.2996\n",
    "1.3536\n",
    "1.4077\n",
    "1.4617\n",
    "1.5158\n",
    "1.5698\n",
    "1.6239\n",
    "1.6779\n",
    "1.732\n",
    "1.786\n",
    "1.8401\n",
    "1.8941\n",
    "1.9482]"
   ]
  }
 ],
 "metadata": {
  "kernelspec": {
   "display_name": "Python 3",
   "language": "python",
   "name": "python3"
  },
  "language_info": {
   "codemirror_mode": {
    "name": "ipython",
    "version": 3
   },
   "file_extension": ".py",
   "mimetype": "text/x-python",
   "name": "python",
   "nbconvert_exporter": "python",
   "pygments_lexer": "ipython3",
   "version": "3.7.2"
  }
 },
 "nbformat": 4,
 "nbformat_minor": 2
}
